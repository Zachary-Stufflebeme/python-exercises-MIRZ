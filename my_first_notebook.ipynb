{
 "cells": [
  {
   "cell_type": "markdown",
   "id": "57244902",
   "metadata": {},
   "source": [
    "here I used the 'm' key while in command mode to turn my cell into markdown"
   ]
  },
  {
   "cell_type": "code",
   "execution_count": null,
   "id": "2193bc25",
   "metadata": {},
   "outputs": [],
   "source": []
  },
  {
   "cell_type": "markdown",
   "id": "1ca235d7",
   "metadata": {},
   "source": [
    "In order to create another mark down beneath the empty cell I went into command mode on the empty cell and pressed 'b' to insert a cell below.\n"
   ]
  },
  {
   "cell_type": "code",
   "execution_count": null,
   "id": "39b9fb85",
   "metadata": {},
   "outputs": [],
   "source": []
  },
  {
   "cell_type": "markdown",
   "id": "7ef5aa32",
   "metadata": {},
   "source": [
    "I've done the same thing here except I used command mode on this cell and pressed 'A' in order to insert the empty cell above"
   ]
  },
  {
   "cell_type": "markdown",
   "id": "d04278ac",
   "metadata": {},
   "source": [
    "Running code:"
   ]
  },
  {
   "cell_type": "code",
   "execution_count": 1,
   "id": "c28d7dff",
   "metadata": {},
   "outputs": [],
   "source": [
    "x = 0"
   ]
  },
  {
   "cell_type": "code",
   "execution_count": 2,
   "id": "ac68b17f",
   "metadata": {},
   "outputs": [
    {
     "data": {
      "text/plain": [
       "0"
      ]
     },
     "execution_count": 2,
     "metadata": {},
     "output_type": "execute_result"
    }
   ],
   "source": [
    "x"
   ]
  },
  {
   "cell_type": "code",
   "execution_count": 3,
   "id": "4af55e0d",
   "metadata": {},
   "outputs": [],
   "source": [
    "x = x + 1"
   ]
  },
  {
   "cell_type": "code",
   "execution_count": 4,
   "id": "aa31cb46",
   "metadata": {},
   "outputs": [
    {
     "data": {
      "text/plain": [
       "1"
      ]
     },
     "execution_count": 4,
     "metadata": {},
     "output_type": "execute_result"
    }
   ],
   "source": [
    "x"
   ]
  },
  {
   "cell_type": "code",
   "execution_count": 6,
   "id": "d6fc7d28",
   "metadata": {},
   "outputs": [],
   "source": [
    "y = (x+1)/ x"
   ]
  },
  {
   "cell_type": "code",
   "execution_count": 7,
   "id": "578bb801",
   "metadata": {},
   "outputs": [
    {
     "data": {
      "text/plain": [
       "2.0"
      ]
     },
     "execution_count": 7,
     "metadata": {},
     "output_type": "execute_result"
    }
   ],
   "source": [
    "y"
   ]
  },
  {
   "cell_type": "code",
   "execution_count": null,
   "id": "53a99fd4",
   "metadata": {},
   "outputs": [],
   "source": []
  }
 ],
 "metadata": {
  "kernelspec": {
   "display_name": "Python 3 (ipykernel)",
   "language": "python",
   "name": "python3"
  },
  "language_info": {
   "codemirror_mode": {
    "name": "ipython",
    "version": 3
   },
   "file_extension": ".py",
   "mimetype": "text/x-python",
   "name": "python",
   "nbconvert_exporter": "python",
   "pygments_lexer": "ipython3",
   "version": "3.9.12"
  }
 },
 "nbformat": 4,
 "nbformat_minor": 5
}
